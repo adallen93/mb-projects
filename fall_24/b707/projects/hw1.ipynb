{
 "cells": [
  {
   "cell_type": "code",
   "execution_count": null,
   "metadata": {},
   "outputs": [],
   "source": [
    "import pandas as pd"
   ]
  },
  {
   "cell_type": "markdown",
   "metadata": {},
   "source": [
    "> ## Instructions\n",
    "> \n",
    "> The goal is to get comfortable with Jupyter notebook and executable documents. You will need to submit a Jupyter notebook that should compile by itself along with the pdf. If you use any special packages make sure that their use is documented so that the user (me!) knows what needs to be loaded.\n",
    ">\n",
    "> If your program does not compile properly it will be sent back and you will be asked to submit another version.\n",
    ">\n",
    "> 1. The website https://www.causeweb.org/tshs/surgery-timing/ describes a study looking at the time of day a surgery is performed. Download and read the associated article: “Operation timing and 30-day mortality after elective general surgery” by Sessler et al. posted on the Sakai website.\n",
    "> 2. The study data are available in a number of formats on the website. Load the RData object directly from the website. Use the command: load(url(“http://mywebsite.com/mydata.RData”)) where 'mywebsite.com/mydata.RData' refers to the link address of the data you wish to use.\n",
    "> 3. Recreate Tables 1 & 2 from the paper. Comment on any discrepancies. (You don’t need to format the tables in the same way)\n",
    "> 4. Figures 3 & 4 report adjusted probability estimates. What were these probabilities adjusted for? Is this study reproducible based on the published article?"
   ]
  }
 ],
 "metadata": {
  "language_info": {
   "name": "python"
  }
 },
 "nbformat": 4,
 "nbformat_minor": 2
}
